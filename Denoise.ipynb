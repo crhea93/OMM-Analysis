{
 "cells": [
  {
   "cell_type": "markdown",
   "metadata": {},
   "source": [
    "# Denoise\n",
    "We may want to do some basic denoising to clean up the image"
   ]
  },
  {
   "cell_type": "code",
   "execution_count": 1,
   "metadata": {},
   "outputs": [],
   "source": [
    "from skimage.restoration import (denoise_tv_chambolle, denoise_bilateral,\n",
    "                                 denoise_wavelet, estimate_sigma)\n",
    "from astropy.io import fits"
   ]
  },
  {
   "cell_type": "code",
   "execution_count": 2,
   "metadata": {},
   "outputs": [],
   "source": [
    "mosaic_hdu = fits.open('M101.fits')[0]"
   ]
  },
  {
   "cell_type": "code",
   "execution_count": 3,
   "metadata": {},
   "outputs": [],
   "source": [
    "denoised = denoise_tv_chambolle(mosaic_hdu.data, weight=0.1, multichannel=True)\n",
    "mosaic_hdu.data = denoised\n",
    "mosaic_hdu.writeto('denoised.fits', overwrite=True)"
   ]
  },
  {
   "cell_type": "code",
   "execution_count": 4,
   "metadata": {},
   "outputs": [],
   "source": [
    "from PIL import Image, ImageFilter, ImageEnhance\n",
    "import matplotlib.pyplot as plt\n",
    "import numpy as np"
   ]
  },
  {
   "cell_type": "code",
   "execution_count": 5,
   "metadata": {},
   "outputs": [],
   "source": [
    "mosaic_hdu = fits.open('M101.fits')[0]\n",
    "image = Image.fromarray(mosaic_hdu.data.astype('uint8'))\n",
    "new_image = image.filter(ImageFilter.UnsharpMask(radius=2, percent=500))\n",
    "mosaic_hdu.data = new_image\n",
    "mosaic_hdu.writeto('denoised_unsharp.fits', overwrite=True)"
   ]
  },
  {
   "cell_type": "code",
   "execution_count": 6,
   "metadata": {},
   "outputs": [],
   "source": [
    "mosaic_hdu = fits.open('M101.fits')[0]\n",
    "image = Image.fromarray(mosaic_hdu.data.astype('uint8'))\n",
    "new_image = image.filter(ImageFilter.BoxBlur(radius=1))\n",
    "mosaic_hdu.data = new_image\n",
    "mosaic_hdu.writeto('denoised_blur.fits', overwrite=True)"
   ]
  },
  {
   "cell_type": "code",
   "execution_count": 7,
   "metadata": {},
   "outputs": [],
   "source": [
    "mosaic_hdu = fits.open('M101.fits')[0]\n",
    "new_image = image.filter(ImageFilter.MedianFilter())\n",
    "mosaic_hdu.data = new_image\n",
    "mosaic_hdu.writeto('denoised_enh.fits', overwrite=True)"
   ]
  },
  {
   "cell_type": "code",
   "execution_count": 8,
   "metadata": {},
   "outputs": [],
   "source": [
    "mosaic_hdu = fits.open('M101.fits')[0]\n",
    "new_image = image.filter(ImageFilter.ModeFilter())\n",
    "mosaic_hdu.data = new_image\n",
    "mosaic_hdu.writeto('denoised_mode.fits', overwrite=True)"
   ]
  },
  {
   "cell_type": "code",
   "execution_count": 55,
   "metadata": {},
   "outputs": [],
   "source": [
    "from scipy import fftpack\n"
   ]
  },
  {
   "cell_type": "code",
   "execution_count": 75,
   "metadata": {},
   "outputs": [],
   "source": [
    "mosaic_hdu = fits.open('stacked_1.fits')[0]\n",
    "image = Image.fromarray(mosaic_hdu.data.astype('uint8'))\n",
    "im_fft = fftpack.fft2(image)\n",
    "\n",
    "keep_fraction = 0.2\n",
    "\n",
    "# Call ff a copy of the original transform. Numpy arrays have a copy\n",
    "# method for this purpose.\n",
    "im_fft2 = im_fft.copy()\n",
    "\n",
    "# Set r and c to be the number of rows and columns of the array.\n",
    "r, c = im_fft2.shape\n",
    "\n",
    "# Set to zero all rows with indices between r*keep_fraction and\n",
    "# r*(1-keep_fraction):\n",
    "im_fft2[int(r*keep_fraction):int(r*(1-keep_fraction))] = 0\n",
    "\n",
    "# Similarly with the columns:\n",
    "im_fft2[:, int(c*keep_fraction):int(c*(1-keep_fraction))] = 0\n",
    "\n",
    "im_new = fftpack.ifft2(im_fft2).real\n",
    "mosaic_hdu.data = im_new\n",
    "mosaic_hdu.writeto('denoised_fft.fits', overwrite=True)\n"
   ]
  },
  {
   "cell_type": "code",
   "execution_count": 9,
   "metadata": {},
   "outputs": [
    {
     "ename": "NameError",
     "evalue": "name 'im_new' is not defined",
     "output_type": "error",
     "traceback": [
      "\u001b[0;31m---------------------------------------------------------------------------\u001b[0m",
      "\u001b[0;31mNameError\u001b[0m                                 Traceback (most recent call last)",
      "\u001b[0;32m<ipython-input-9-a25f03e2c800>\u001b[0m in \u001b[0;36m<module>\u001b[0;34m\u001b[0m\n\u001b[1;32m      1\u001b[0m \u001b[0mmosaic_hdu\u001b[0m \u001b[0;34m=\u001b[0m \u001b[0mfits\u001b[0m\u001b[0;34m.\u001b[0m\u001b[0mopen\u001b[0m\u001b[0;34m(\u001b[0m\u001b[0;34m'M101.fits'\u001b[0m\u001b[0;34m)\u001b[0m\u001b[0;34m[\u001b[0m\u001b[0;36m0\u001b[0m\u001b[0;34m]\u001b[0m\u001b[0;34m\u001b[0m\u001b[0;34m\u001b[0m\u001b[0m\n\u001b[1;32m      2\u001b[0m \u001b[0mimage\u001b[0m \u001b[0;34m=\u001b[0m \u001b[0mImage\u001b[0m\u001b[0;34m.\u001b[0m\u001b[0mfromarray\u001b[0m\u001b[0;34m(\u001b[0m\u001b[0mmosaic_hdu\u001b[0m\u001b[0;34m.\u001b[0m\u001b[0mdata\u001b[0m\u001b[0;34m.\u001b[0m\u001b[0mastype\u001b[0m\u001b[0;34m(\u001b[0m\u001b[0;34m'uint8'\u001b[0m\u001b[0;34m)\u001b[0m\u001b[0;34m)\u001b[0m\u001b[0;34m\u001b[0m\u001b[0;34m\u001b[0m\u001b[0m\n\u001b[0;32m----> 3\u001b[0;31m \u001b[0mmosaic_hdu\u001b[0m\u001b[0;34m.\u001b[0m\u001b[0mdata\u001b[0m \u001b[0;34m=\u001b[0m \u001b[0;34m(\u001b[0m\u001b[0mimage\u001b[0m \u001b[0;34m-\u001b[0m \u001b[0mim_new\u001b[0m\u001b[0;34m)\u001b[0m\u001b[0;34m\u001b[0m\u001b[0;34m\u001b[0m\u001b[0m\n\u001b[0m\u001b[1;32m      4\u001b[0m \u001b[0mmosaic_hdu\u001b[0m\u001b[0;34m.\u001b[0m\u001b[0mwriteto\u001b[0m\u001b[0;34m(\u001b[0m\u001b[0;34m'denoised_fft_diff.fits'\u001b[0m\u001b[0;34m,\u001b[0m \u001b[0moverwrite\u001b[0m\u001b[0;34m=\u001b[0m\u001b[0;32mTrue\u001b[0m\u001b[0;34m)\u001b[0m\u001b[0;34m\u001b[0m\u001b[0;34m\u001b[0m\u001b[0m\n",
      "\u001b[0;31mNameError\u001b[0m: name 'im_new' is not defined"
     ]
    }
   ],
   "source": [
    "mosaic_hdu = fits.open('M101.fits')[0]\n",
    "image = Image.fromarray(mosaic_hdu.data.astype('uint8'))\n",
    "mosaic_hdu.data = (image - im_new)\n",
    "mosaic_hdu.writeto('denoised_fft_diff.fits', overwrite=True)"
   ]
  },
  {
   "cell_type": "code",
   "execution_count": null,
   "metadata": {},
   "outputs": [],
   "source": []
  }
 ],
 "metadata": {
  "kernelspec": {
   "display_name": "Python 3",
   "language": "python",
   "name": "python3"
  },
  "language_info": {
   "codemirror_mode": {
    "name": "ipython",
    "version": 3
   },
   "file_extension": ".py",
   "mimetype": "text/x-python",
   "name": "python",
   "nbconvert_exporter": "python",
   "pygments_lexer": "ipython3",
   "version": "3.7.6"
  }
 },
 "nbformat": 4,
 "nbformat_minor": 4
}

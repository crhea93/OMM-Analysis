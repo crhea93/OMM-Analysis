{
 "cells": [
  {
   "cell_type": "markdown",
   "metadata": {},
   "source": [
    "# Denoise\n",
    "We may want to do some basic denoising to clean up the image"
   ]
  },
  {
   "cell_type": "code",
   "execution_count": 3,
   "metadata": {},
   "outputs": [],
   "source": [
    "from skimage.restoration import (denoise_tv_chambolle, denoise_bilateral,\n",
    "                                 denoise_wavelet, estimate_sigma)\n",
    "from astropy.io import fits"
   ]
  },
  {
   "cell_type": "code",
   "execution_count": 48,
   "metadata": {},
   "outputs": [],
   "source": [
    "mosaic_hdu = fits.open('M101.fits')[0]"
   ]
  },
  {
   "cell_type": "code",
   "execution_count": 5,
   "metadata": {},
   "outputs": [],
   "source": [
    "denoised = denoise_tv_chambolle(mosaic_hdu.data, weight=0.1, multichannel=True)\n",
    "mosaic_hdu.data = denoised\n",
    "mosaic_hdu.writeto('denoised.fits', overwrite=True)"
   ]
  },
  {
   "cell_type": "code",
   "execution_count": 36,
   "metadata": {},
   "outputs": [],
   "source": [
    "from PIL import Image, ImageFilter, ImageEnhance\n",
    "import matplotlib.pyplot as plt\n",
    "import numpy as np"
   ]
  },
  {
   "cell_type": "code",
   "execution_count": 52,
   "metadata": {},
   "outputs": [],
   "source": [
    "mosaic_hdu = fits.open('M101.fits')[0]\n",
    "image = Image.fromarray(mosaic_hdu.data.astype('uint8'))\n",
    "new_image = image.filter(ImageFilter.UnsharpMask(radius=2, percent=500))\n",
    "mosaic_hdu.data = new_image\n",
    "mosaic_hdu.writeto('denoised_unsharp.fits', overwrite=True)"
   ]
  },
  {
   "cell_type": "code",
   "execution_count": 50,
   "metadata": {},
   "outputs": [],
   "source": [
    "mosaic_hdu = fits.open('M101.fits')[0]\n",
    "image = Image.fromarray(mosaic_hdu.data.astype('uint8'))\n",
    "new_image = image.filter(ImageFilter.BoxBlur(radius=1))\n",
    "mosaic_hdu.data = new_image\n",
    "mosaic_hdu.writeto('denoised_blur.fits', overwrite=True)"
   ]
  },
  {
   "cell_type": "code",
   "execution_count": 53,
   "metadata": {},
   "outputs": [],
   "source": [
    "mosaic_hdu = fits.open('M101.fits')[0]\n",
    "new_image = image.filter(ImageFilter.MedianFilter())\n",
    "mosaic_hdu.data = new_image\n",
    "mosaic_hdu.writeto('denoised_enh.fits', overwrite=True)"
   ]
  },
  {
   "cell_type": "code",
   "execution_count": 54,
   "metadata": {},
   "outputs": [],
   "source": [
    "mosaic_hdu = fits.open('M101.fits')[0]\n",
    "new_image = image.filter(ImageFilter.ModeFilter())\n",
    "mosaic_hdu.data = new_image\n",
    "mosaic_hdu.writeto('denoised_mode.fits', overwrite=True)"
   ]
  },
  {
   "cell_type": "code",
   "execution_count": 55,
   "metadata": {},
   "outputs": [],
   "source": [
    "from scipy import fftpack\n"
   ]
  },
  {
   "cell_type": "code",
   "execution_count": 75,
   "metadata": {},
   "outputs": [],
   "source": [
    "mosaic_hdu = fits.open('stacked_1.fits')[0]\n",
    "image = Image.fromarray(mosaic_hdu.data.astype('uint8'))\n",
    "im_fft = fftpack.fft2(image)\n",
    "\n",
    "keep_fraction = 0.2\n",
    "\n",
    "# Call ff a copy of the original transform. Numpy arrays have a copy\n",
    "# method for this purpose.\n",
    "im_fft2 = im_fft.copy()\n",
    "\n",
    "# Set r and c to be the number of rows and columns of the array.\n",
    "r, c = im_fft2.shape\n",
    "\n",
    "# Set to zero all rows with indices between r*keep_fraction and\n",
    "# r*(1-keep_fraction):\n",
    "im_fft2[int(r*keep_fraction):int(r*(1-keep_fraction))] = 0\n",
    "\n",
    "# Similarly with the columns:\n",
    "im_fft2[:, int(c*keep_fraction):int(c*(1-keep_fraction))] = 0\n",
    "\n",
    "im_new = fftpack.ifft2(im_fft2).real\n",
    "mosaic_hdu.data = im_new\n",
    "mosaic_hdu.writeto('denoised_fft.fits', overwrite=True)\n"
   ]
  },
  {
   "cell_type": "code",
   "execution_count": 73,
   "metadata": {},
   "outputs": [],
   "source": [
    "mosaic_hdu = fits.open('M101.fits')[0]\n",
    "image = Image.fromarray(mosaic_hdu.data.astype('uint8'))\n",
    "mosaic_hdu.data = (image - im_new)\n",
    "mosaic_hdu.writeto('denoised_fft_diff.fits', overwrite=True)"
   ]
  },
  {
   "cell_type": "code",
   "execution_count": null,
   "metadata": {},
   "outputs": [],
   "source": []
  }
 ],
 "metadata": {
  "kernelspec": {
   "display_name": "Python 3",
   "language": "python",
   "name": "python3"
  },
  "language_info": {
   "codemirror_mode": {
    "name": "ipython",
    "version": 3
   },
   "file_extension": ".py",
   "mimetype": "text/x-python",
   "name": "python",
   "nbconvert_exporter": "python",
   "pygments_lexer": "ipython3",
   "version": "3.8.5"
  }
 },
 "nbformat": 4,
 "nbformat_minor": 4
}

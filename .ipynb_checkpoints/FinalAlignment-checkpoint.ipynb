{
 "cells": [
  {
   "cell_type": "markdown",
   "metadata": {},
   "source": [
    "# Final Alignment\n",
    "Ocassionaly, astronomy.net fails to solve! This can happen for  a number of reasons and is not consistent :( \n",
    "\n",
    "When this happens, we need to manually align any images that failed to get sky coordinates. I prefer to make the mosaic (using mosaic.py) with the images that astronet could solve for. Then, we need to find a bright source that is in both the mosaic and the image that is missing coordinates. We use this source to align the un-solved image and apply WCS to it :) The coordinates should be in physical or image units (in all the examples that I have done, they are identical)."
   ]
  },
  {
   "cell_type": "code",
   "execution_count": 23,
   "metadata": {},
   "outputs": [],
   "source": [
    "# Imports!\n",
    "from astropy.io import fits\n",
    "from astropy.nddata import Cutout2D\n",
    "from astropy.utils.data import download_file\n",
    "from astropy.wcs import WCS\n",
    "import matplotlib.pyplot as plt\n",
    "import numpy as np\n",
    "import skimage.registration as skf\n",
    "import astroalign as aa"
   ]
  },
  {
   "cell_type": "code",
   "execution_count": 96,
   "metadata": {},
   "outputs": [
    {
     "name": "stdout",
     "output_type": "stream",
     "text": [
      "[394, 1]\n",
      "[1361, 1294]\n"
     ]
    }
   ],
   "source": [
    "# Load the image and the WCS\n",
    "mosaic_hdu = fits.open('/media/carterrhea/carterrhea/OMM/M101_original.fits')[0]  # load mosaic with WCS\n",
    "image_none = fits.open('/media/carterrhea/carterrhea/OMM/stacked_5.fits')[0]  # Load image missing WCS\n",
    "wcs = WCS(mosaic_hdu.header)\n",
    "\n",
    "# Source coordinates in mosaic and in non-solved image\n",
    "src_mos = [1755, 1295]  # mosaic coordinates  -- this is just an example\n",
    "src_non = [906, 511]  # non-solved coordinates  -- this is just an example\n",
    "# We now need to calculate the shift from the center of the non-solved image (it is 1025x1024)\n",
    "# This assumes only a translation. If there is rotation, this becomes more involved and has thus not yet been implemented.\n",
    "# A description of how to go about doing this can be found here http://nghiaho.com/?page_id=671\n",
    "shift_ = [0,0]\n",
    "if src_non[0] > 512:\n",
    "    shift_[0] = src_non[0]-512\n",
    "else:\n",
    "    shift_[0] = 512-src_non[0]\n",
    "if src_non[1] > 512:\n",
    "    shift_[1] = src_non[1]-512\n",
    "else:\n",
    "    shift_[1] = 512-src_non[1]\n",
    "print(shift_)\n",
    "# Now calculate the final cutout position in the mosaic\n",
    "final_ = [val1-val2 for val1,val2 in zip(src_mos, shift_)]\n",
    "print(final_)\n",
    "# Make the cutout, including the WCS\n",
    "cutout = Cutout2D(mosaic_hdu.data, position=final_, size=(1025,1024), wcs=wcs)\n",
    "# Update the FITS header with the cutout WCS\n",
    "image_none.header.update(cutout.wcs.to_header())\n",
    "# Write the cutout to a new FITS file\n",
    "cutout_filename = '/media/carterrhea/carterrhea/OMM/stacked_correct_5.fits'\n",
    "image_none.writeto(cutout_filename, overwrite=True)"
   ]
  },
  {
   "cell_type": "markdown",
   "metadata": {},
   "source": [
    "## Using astrolign to solve for the rotation as well\n",
    "\n",
    "UNDER DEVELOPMENT!"
   ]
  },
  {
   "cell_type": "code",
   "execution_count": 103,
   "metadata": {},
   "outputs": [],
   "source": [
    "# We have to give it three points\n",
    "src_mos = np.array([(1755, 1295), (1834, 1303), (1723, 1211.5)])  # mosaic coordinates  -- this is just an example\n",
    "src_non = np.array([(906, 511), (978, 513), (918.2, 422.5)])\n",
    "tform = aa.estimate_transform('similarity', np.array(src_non), np.array(src_mos))"
   ]
  },
  {
   "cell_type": "code",
   "execution_count": 104,
   "metadata": {},
   "outputs": [
    {
     "name": "stdout",
     "output_type": "stream",
     "text": [
      "[1755. 1295.]\n",
      "[ 581.14545317 1035.63779738]\n"
     ]
    }
   ],
   "source": [
    "print(src_mos[0])\n",
    "print(tform.translation)"
   ]
  },
  {
   "cell_type": "code",
   "execution_count": 105,
   "metadata": {},
   "outputs": [],
   "source": [
    "t_form_final = tform.translation+src_non[0]"
   ]
  },
  {
   "cell_type": "code",
   "execution_count": 106,
   "metadata": {},
   "outputs": [
    {
     "name": "stdout",
     "output_type": "stream",
     "text": [
      "[267.85454683265266, -251.63779737866457]\n"
     ]
    }
   ],
   "source": [
    "final_ = [val1-val2 for val1,val2 in zip(src_mos[0], t_form_final)]\n",
    "print(final_)"
   ]
  },
  {
   "cell_type": "code",
   "execution_count": 107,
   "metadata": {},
   "outputs": [],
   "source": [
    "# Now apply the transform\n",
    "registered_image = aa.apply_transform(tform, np.array(image_none.data).byteswap().newbyteorder(), np.array(mosaic_hdu.data).byteswap().newbyteorder())"
   ]
  },
  {
   "cell_type": "code",
   "execution_count": 108,
   "metadata": {},
   "outputs": [
    {
     "data": {
      "text/plain": [
       "<matplotlib.image.AxesImage at 0x7fac05065910>"
      ]
     },
     "execution_count": 108,
     "metadata": {},
     "output_type": "execute_result"
    },
    {
     "data": {
      "image/png": "[encoded data removed]",
      "text/plain": [
       "<Figure size 432x288 with 1 Axes>"
      ]
     },
     "metadata": {
      "needs_background": "light"
     },
     "output_type": "display_data"
    }
   ],
   "source": [
    "plt.imshow(registered_image[0], vmin=300, vmax=400)"
   ]
  },
  {
   "cell_type": "code",
   "execution_count": 109,
   "metadata": {},
   "outputs": [],
   "source": [
    "# Now that we have the transformed image without WCS, we can update the header information\n",
    "cutout = Cutout2D(mosaic_hdu.data, position=final_, size=(1025,1024), wcs=wcs)\n",
    "# Update the FITS header with the cutout WCS\n",
    "# Write the cutout to a new FITS file\n",
    "hdu = fits.PrimaryHDU(header=cutout.wcs.to_header(), data=registered_image[0])\n",
    "hdul = fits.HDUList([hdu])\n",
    "hdul.writeto('/media/carterrhea/carterrhea/OMM/solved.fits', overwrite=True)"
   ]
  },
  {
   "cell_type": "code",
   "execution_count": null,
   "metadata": {},
   "outputs": [],
   "source": []
  }
 ],
 "metadata": {
  "kernelspec": {
   "display_name": "Python 3",
   "language": "python",
   "name": "python3"
  },
  "language_info": {
   "codemirror_mode": {
    "name": "ipython",
    "version": 3
   },
   "file_extension": ".py",
   "mimetype": "text/x-python",
   "name": "python",
   "nbconvert_exporter": "python",
   "pygments_lexer": "ipython3",
   "version": "3.8.5"
  }
 },
 "nbformat": 4,
 "nbformat_minor": 4
}

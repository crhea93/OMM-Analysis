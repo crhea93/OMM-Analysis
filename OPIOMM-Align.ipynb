{
 "cells": [
  {
   "cell_type": "markdown",
   "id": "985ce482",
   "metadata": {},
   "source": [
    "# Align images using astroalign\n",
    "Notebook which aligns two (or three) images taken with the PESTO instrument AFTER running through the reduction pipeline [here](https://reductionpipeline.readthedocs.io/en/latest/).\n",
    "\n",
    "The images will all be aligned with respect to the first filter"
   ]
  },
  {
   "cell_type": "code",
   "execution_count": 1,
   "id": "369906b3",
   "metadata": {},
   "outputs": [],
   "source": [
    "from astropy.io import fits\n",
    "import matplotlib.pyplot as plt\n",
    "import astroalign as aa\n",
    "import numpy as np\n",
    "import time\n",
    "from astropy.wcs import WCS"
   ]
  },
  {
   "cell_type": "code",
   "execution_count": 2,
   "id": "3012baa3-644c-4964-8468-3f8143839d8a",
   "metadata": {},
   "outputs": [],
   "source": [
    "object_name = 'NGC6207'\n",
    "filter1 = 'ha'\n",
    "filter2 = 'g'\n",
    "filter3 = 'z'"
   ]
  },
  {
   "cell_type": "code",
   "execution_count": 3,
   "id": "361ba4ef",
   "metadata": {},
   "outputs": [],
   "source": [
    "NGC_1 = fits.open(object_name+'_'+filter1+'.fits')[0].data.byteswap().newbyteorder()\n",
    "NGC_2 = fits.open(object_name+'_'+filter2+'.fits')[0].data.byteswap().newbyteorder()\n",
    "NGC_3 = fits.open(object_name+'_'+filter3+'.fits')[0].data.byteswap().newbyteorder()"
   ]
  },
  {
   "cell_type": "markdown",
   "id": "86c164ca-6a41-485c-849d-ffacd98bf359",
   "metadata": {},
   "source": [
    "## Align\n",
    "We will now realign the g and i bands to be concident with ha (or whatever bands you are using)"
   ]
  },
  {
   "cell_type": "code",
   "execution_count": 6,
   "id": "4e421f33-b676-4a36-ac3c-e1109f64dff5",
   "metadata": {},
   "outputs": [],
   "source": [
    "t, __ = aa.find_transform(NGC_2, NGC_1)\n",
    "NGC_2_aligned, footprint = aa.apply_transform(t, NGC_2, NGC_1)\n",
    "\n",
    "t, __ = aa.find_transform(NGC_3, NGC_1)\n",
    "NGC_3_aligned, footprint = aa.apply_transform(t, NGC_3, NGC_1)"
   ]
  },
  {
   "cell_type": "markdown",
   "id": "633142f8-1ea9-4cb1-a078-12825900c912",
   "metadata": {},
   "source": [
    "## Save\n",
    "Now we save the realigned images as fits images using the ha WCS"
   ]
  },
  {
   "cell_type": "code",
   "execution_count": 7,
   "id": "7206189a-b5a7-4a2c-9569-594d27f6b8d9",
   "metadata": {},
   "outputs": [],
   "source": [
    "hdr = WCS(fits.open(object_name+'_'+filter1+'.fits')[0].header).to_header()\n",
    "hdr['Comment'] = 'Updated to have the correct alignment based off Halpha image on %s by Carter Rhea'%(str(time.time()))\n",
    "fits.writeto(object_name+'_'+filter2+'_aligned.fits', NGC_2_aligned, hdr, overwrite=True)\n",
    "fits.writeto(object_name+'_'+filter3+'_aligned.fits', NGC_3_aligned, hdr, overwrite=True)"
   ]
  },
  {
   "cell_type": "code",
   "execution_count": null,
   "id": "9f00ac00-2be7-414e-ba50-768a3169d5bb",
   "metadata": {},
   "outputs": [],
   "source": []
  }
 ],
 "metadata": {
  "kernelspec": {
   "display_name": "Python 3",
   "language": "python",
   "name": "python3"
  },
  "language_info": {
   "codemirror_mode": {
    "name": "ipython",
    "version": 3
   },
   "file_extension": ".py",
   "mimetype": "text/x-python",
   "name": "python",
   "nbconvert_exporter": "python",
   "pygments_lexer": "ipython3",
   "version": "3.9.7"
  }
 },
 "nbformat": 4,
 "nbformat_minor": 5
}

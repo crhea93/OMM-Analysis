{
 "cells": [
  {
   "cell_type": "markdown",
   "id": "bcbfc862-0b49-485d-a54d-2707ff29ad48",
   "metadata": {},
   "source": [
    "# Align images using astroalign\n",
    "Notebook which aligns two images taken with the PESTO instrument AFTER running through the reduction pipeline [here](https://reductionpipeline.readthedocs.io/en/latest/)."
   ]
  },
  {
   "cell_type": "code",
   "execution_count": 21,
   "id": "ec245287-c331-4a63-8ae1-cd67780b2ec3",
   "metadata": {},
   "outputs": [],
   "source": [
    "from astropy.io import fits\n",
    "import matplotlib.pyplot as plt\n",
    "import astroalign as aa\n",
    "import numpy as np\n",
    "from astropy.wcs import WCS"
   ]
  },
  {
   "cell_type": "code",
   "execution_count": 19,
   "id": "82778302-b58a-491d-97cf-b652faea3b35",
   "metadata": {},
   "outputs": [],
   "source": [
    "NGC_g = fits.open('NGC5866_g.fits')[0].data.byteswap().newbyteorder()\n",
    "NGC_ha = fits.open('NGC5866_ha.fits')[0].data.byteswap().newbyteorder()\n",
    "NGC_i = fits.open('NGC5866_i.fits')[0].data.byteswap().newbyteorder()"
   ]
  },
  {
   "cell_type": "markdown",
   "id": "992b2d1c-986e-4963-9817-6f5829e08558",
   "metadata": {},
   "source": [
    "## Align\n",
    "We will now realign the g and i bands to be concident with ha"
   ]
  },
  {
   "cell_type": "code",
   "execution_count": 20,
   "id": "f5f94ac2-1e20-4ded-8cf5-24ebb985c3e9",
   "metadata": {},
   "outputs": [],
   "source": [
    "NGC_g_aligned, footprint = aa.register(NGC_g, NGC_ha)\n",
    "NGC_i_aligned, footprint = aa.register(NGC_i, NGC_ha)"
   ]
  },
  {
   "cell_type": "markdown",
   "id": "aee9346d-e02b-462d-82de-1cf7bd68aa6c",
   "metadata": {},
   "source": [
    "## Save\n",
    "Now we save the realigned images as fits images using the ha WCS"
   ]
  },
  {
   "cell_type": "code",
   "execution_count": 22,
   "id": "44643cc6-2f70-4270-ae66-1a18fe0aa683",
   "metadata": {},
   "outputs": [],
   "source": [
    "hdr = WCS(fits.open('NGC5866_ha.fits')[0].header).to_header()\n",
    "fits.writeto('NGC5866_g_aligned.fits', NGC_g_aligned, hdr)\n",
    "fits.writeto('NGC5866_i_aligned.fits', NGC_i_aligned, hdr)"
   ]
  },
  {
   "cell_type": "code",
   "execution_count": null,
   "id": "88a14161-5259-4476-ad95-de885ab60ae9",
   "metadata": {},
   "outputs": [],
   "source": []
  }
 ],
 "metadata": {
  "kernelspec": {
   "display_name": "Python 3",
   "language": "python",
   "name": "python3"
  },
  "language_info": {
   "codemirror_mode": {
    "name": "ipython",
    "version": 3
   },
   "file_extension": ".py",
   "mimetype": "text/x-python",
   "name": "python",
   "nbconvert_exporter": "python",
   "pygments_lexer": "ipython3",
   "version": "3.9.4"
  }
 },
 "nbformat": 4,
 "nbformat_minor": 5
}

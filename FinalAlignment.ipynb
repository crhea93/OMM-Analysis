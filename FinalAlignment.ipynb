{
 "cells": [
  {
   "cell_type": "markdown",
   "metadata": {},
   "source": [
    "# Final Alignment\n",
    "Ocassionaly, astronomy.net fails to solve! This can happen for  a number of reasons and is not consistent :( \n",
    "\n",
    "When this happens, we need to manually align any images that failed to get sky coordinates. I prefer to make the mosaic (using mosaic.py) with the images that astronet could solve for. Then, we need to find a bright source that is in both the mosaic and the image that is missing coordinates. We use this source to align the un-solved image and apply WCS to it :) The coordinates should be in physical or image units (in all the examples that I have done, they are identical)."
   ]
  },
  {
   "cell_type": "code",
   "execution_count": 9,
   "metadata": {},
   "outputs": [],
   "source": [
    "# Imports!\n",
    "from astropy.io import fits\n",
    "from astropy.nddata import Cutout2D\n",
    "from astropy.utils.data import download_file\n",
    "from astropy.wcs import WCS\n",
    "import matplotlib.pyplot as plt\n",
    "import numpy as np\n",
    "import skimage.registration as skf"
   ]
  },
  {
   "cell_type": "code",
   "execution_count": 10,
   "metadata": {},
   "outputs": [],
   "source": [
    "Object_name = 'M101'\n",
    "filter_ = 'z'\n",
    "position = '5'"
   ]
  },
  {
   "cell_type": "code",
   "execution_count": 11,
   "metadata": {},
   "outputs": [],
   "source": [
    "# Source coordinates in mosaic and in non-solved image\n",
    "src_mos = [1632.88, 1050.69]  # mosaic coordinates  -- this is just an example\n",
    "src_non = [984.79, 238.29]  # non-solved coordinates  -- this is just an example"
   ]
  },
  {
   "cell_type": "code",
   "execution_count": 12,
   "metadata": {},
   "outputs": [
    {
     "name": "stdout",
     "output_type": "stream",
     "text": [
      "[472.78999999999996, 273.71000000000004]\n",
      "[1160.0900000000001, 776.98]\n"
     ]
    }
   ],
   "source": [
    "# Load the image and the WCS\n",
    "mosaic_hdu = fits.open('../%s/%s/%s.fits'%(Object_name, filter_, Object_name))[0]  # load mosaic with WCS\n",
    "image_none = fits.open('../%s/%s/stacked_%s.fits'%(Object_name, filter_, position))[0]  # Load image missing WCS\n",
    "wcs = WCS(mosaic_hdu.header)\n",
    "\n",
    "\n",
    "# We now need to calculate the shift from the center of the non-solved image (it is 1025x1024)\n",
    "shift_ = [0,0]\n",
    "if src_non[0] > 512:\n",
    "    shift_[0] = src_non[0]-512\n",
    "else:\n",
    "    shift_[0] = 512-src_non[0]\n",
    "if src_non[1] > 512:\n",
    "    shift_[1] = src_non[1]-512\n",
    "else:\n",
    "    shift_[1] = 512-src_non[1]\n",
    "#shift_ = [val-512 for val in src_non]\n",
    "print(shift_)\n",
    "# Now calculate the final cutout position in the mosaic\n",
    "final_ = [val1-val2 for val1,val2 in zip(src_mos, shift_)]\n",
    "print(final_)\n",
    "# Make the cutout, including the WCS\n",
    "cutout = Cutout2D(mosaic_hdu.data, position=final_, size=(1025,1024), wcs=wcs)\n",
    "# Update the FITS header with the cutout WCS\n",
    "image_none.header.update(cutout.wcs.to_header())\n",
    "# Write the cutout to a new FITS file\n",
    "cutout_filename = '../%s/%s/stacked_correct_%s.fits'%(Object_name, filter_, position)\n",
    "image_none.writeto(cutout_filename, overwrite=True)"
   ]
  },
  {
   "cell_type": "code",
   "execution_count": null,
   "metadata": {},
   "outputs": [],
   "source": []
  }
 ],
 "metadata": {
  "kernelspec": {
   "display_name": "Python 3",
   "language": "python",
   "name": "python3"
  },
  "language_info": {
   "codemirror_mode": {
    "name": "ipython",
    "version": 3
   },
   "file_extension": ".py",
   "mimetype": "text/x-python",
   "name": "python",
   "nbconvert_exporter": "python",
   "pygments_lexer": "ipython3",
   "version": "3.7.6"
  }
 },
 "nbformat": 4,
 "nbformat_minor": 4
}

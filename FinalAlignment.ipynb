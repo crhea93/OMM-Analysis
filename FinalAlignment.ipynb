{
 "cells": [
  {
   "cell_type": "markdown",
   "metadata": {},
   "source": [
    "# Final Alignment\n",
    "Ocassionaly, astronomy.net fails to solve! This can happen for  a number of reasons and is not consistent :( \n",
    "\n",
    "When this happens, we need to manually align any images that failed to get sky coordinates. I prefer to make the mosaic (using mosaic.py) with the images that astronet could solve for. Then, we need to find a bright source that is in both the mosaic and the image that is missing coordinates. We use this source to align the un-solved image and apply WCS to it :) The coordinates should be in physical or image units (in all the examples that I have done, they are identical)."
   ]
  },
  {
   "cell_type": "code",
   "execution_count": 14,
   "metadata": {},
   "outputs": [],
   "source": [
    "# Imports!\n",
    "from astropy.io import fits\n",
    "from astropy.nddata import Cutout2D\n",
    "from astropy.utils.data import download_file\n",
    "from astropy.wcs import WCS\n",
    "import matplotlib.pyplot as plt\n",
    "import numpy as np\n",
    "import skimage.registration as skf"
   ]
  },
  {
   "cell_type": "code",
   "execution_count": 26,
   "metadata": {},
   "outputs": [
    {
     "name": "stdout",
     "output_type": "stream",
     "text": [
      "[407, 184]\n",
      "[538.4, 1275]\n"
     ]
    }
   ],
   "source": [
    "# Load the image and the WCS\n",
    "mosaic_hdu = fits.open('../M101/z/M101.fits')[0]  # load mosaic with WCS\n",
    "image_none = fits.open('../M101/z/stacked_4.fits')[0]  # Load image missing WCS\n",
    "wcs = WCS(mosaic_hdu.header)\n",
    "\n",
    "# Source coordinates in mosaic and in non-solved image\n",
    "src_mos = [945.4, 1459]  # mosaic coordinates  -- this is just an example\n",
    "src_non = [919, 696]  # non-solved coordinates  -- this is just an example\n",
    "# We now need to calculate the shift from the center of the non-solved image (it is 1025x1024)\n",
    "shift_ = [0,0]\n",
    "if src_non[0] > 512:\n",
    "    shift_[0] = src_non[0]-512\n",
    "else:\n",
    "    shift_[0] = 512-src_non[0]\n",
    "if src_non[1] > 512:\n",
    "    shift_[1] = src_non[1]-512\n",
    "else:\n",
    "    shift_[1] = 512-src_non[1]\n",
    "#shift_ = [val-512 for val in src_non]\n",
    "print(shift_)\n",
    "# Now calculate the final cutout position in the mosaic\n",
    "final_ = [val1-val2 for val1,val2 in zip(src_mos, shift_)]\n",
    "print(final_)\n",
    "# Make the cutout, including the WCS\n",
    "cutout = Cutout2D(mosaic_hdu.data, position=final_, size=(1025,1024), wcs=wcs)\n",
    "# Update the FITS header with the cutout WCS\n",
    "image_none.header.update(cutout.wcs.to_header())\n",
    "# Write the cutout to a new FITS file\n",
    "cutout_filename = '../M101/z/stacked_correct_4.fits'\n",
    "image_none.writeto(cutout_filename, overwrite=True)"
   ]
  },
  {
   "cell_type": "code",
   "execution_count": 20,
   "metadata": {},
   "outputs": [
    {
     "ename": "ValueError",
     "evalue": "operands could not be broadcast together with shapes (794,836) (1025,1024) ",
     "output_type": "error",
     "traceback": [
      "\u001b[0;31m---------------------------------------------------------------------------\u001b[0m",
      "\u001b[0;31mValueError\u001b[0m                                Traceback (most recent call last)",
      "\u001b[0;32m<ipython-input-20-e2eff2987462>\u001b[0m in \u001b[0;36m<module>\u001b[0;34m\u001b[0m\n\u001b[1;32m      1\u001b[0m \u001b[0;31m# Take a quick look at the results\u001b[0m\u001b[0;34m\u001b[0m\u001b[0;34m\u001b[0m\u001b[0;34m\u001b[0m\u001b[0m\n\u001b[0;32m----> 2\u001b[0;31m \u001b[0mplt\u001b[0m\u001b[0;34m.\u001b[0m\u001b[0mimshow\u001b[0m\u001b[0;34m(\u001b[0m\u001b[0mnp\u001b[0m\u001b[0;34m.\u001b[0m\u001b[0marcsinh\u001b[0m\u001b[0;34m(\u001b[0m\u001b[0mcutout\u001b[0m\u001b[0;34m.\u001b[0m\u001b[0mdata\u001b[0m\u001b[0;34m-\u001b[0m\u001b[0mimage_none\u001b[0m\u001b[0;34m.\u001b[0m\u001b[0mdata\u001b[0m\u001b[0;34m)\u001b[0m\u001b[0;34m)\u001b[0m\u001b[0;34m\u001b[0m\u001b[0;34m\u001b[0m\u001b[0m\n\u001b[0m",
      "\u001b[0;31mValueError\u001b[0m: operands could not be broadcast together with shapes (794,836) (1025,1024) "
     ]
    }
   ],
   "source": [
    "# Take a quick look at the results\n",
    "plt.imshow(np.arcsinh(cutout.data-image_none.data))"
   ]
  },
  {
   "cell_type": "code",
   "execution_count": null,
   "metadata": {},
   "outputs": [],
   "source": []
  }
 ],
 "metadata": {
  "kernelspec": {
   "display_name": "Python 3",
   "language": "python",
   "name": "python3"
  },
  "language_info": {
   "codemirror_mode": {
    "name": "ipython",
    "version": 3
   },
   "file_extension": ".py",
   "mimetype": "text/x-python",
   "name": "python",
   "nbconvert_exporter": "python",
   "pygments_lexer": "ipython3",
   "version": "3.8.5"
  }
 },
 "nbformat": 4,
 "nbformat_minor": 4
}

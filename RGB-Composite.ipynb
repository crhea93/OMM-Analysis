{
 "cells": [
  {
   "cell_type": "code",
   "execution_count": 3,
   "id": "6bba2cad-c3fa-455d-a642-23f1f0c67f33",
   "metadata": {},
   "outputs": [],
   "source": [
    "import matplotlib.pyplot as plt\n",
    "from astropy.visualization import make_lupton_rgb\n",
    "from astropy.io import fits\n",
    "import numpy as np\n",
    "# Read in the three images downloaded from here:\n",
    "g_name = 'M101_g.fits'\n",
    "r_name = 'M101_ha.fits'\n",
    "i_name = 'M101_i.fits'\n",
    "g = fits.open(g_name)[0].data\n",
    "g = g/np.max(g)\n",
    "r = fits.open(r_name)[0].data\n",
    "r = r/np.max(r)\n",
    "i = fits.open(i_name)[0].data\n",
    "i = i/np.max(i)\n",
    "\n"
   ]
  },
  {
   "cell_type": "code",
   "execution_count": 4,
   "id": "860519a4-89ef-45d5-8d26-be4dc25a26d2",
   "metadata": {},
   "outputs": [
    {
     "ename": "ValueError",
     "evalue": "The image shapes must match. r: (2608, 2720), g: (2552, 2620) b: (2623, 2697)",
     "output_type": "error",
     "traceback": [
      "\u001b[0;31m---------------------------------------------------------------------------\u001b[0m",
      "\u001b[0;31mValueError\u001b[0m                                Traceback (most recent call last)",
      "Input \u001b[0;32mIn [4]\u001b[0m, in \u001b[0;36m<module>\u001b[0;34m\u001b[0m\n\u001b[1;32m      1\u001b[0m fig \u001b[38;5;241m=\u001b[39m plt\u001b[38;5;241m.\u001b[39mfigure(figsize\u001b[38;5;241m=\u001b[39m(\u001b[38;5;241m16\u001b[39m,\u001b[38;5;241m16\u001b[39m))\n\u001b[0;32m----> 2\u001b[0m rgb_default \u001b[38;5;241m=\u001b[39m \u001b[43mmake_lupton_rgb\u001b[49m\u001b[43m(\u001b[49m\u001b[43mi\u001b[49m\u001b[43m,\u001b[49m\u001b[43mg\u001b[49m\u001b[43m,\u001b[49m\u001b[43mr\u001b[49m\u001b[43m,\u001b[49m\u001b[43m \u001b[49m\u001b[43mfilename\u001b[49m\u001b[38;5;241;43m=\u001b[39;49m\u001b[38;5;124;43m\"\u001b[39;49m\u001b[38;5;124;43mM101-default.jpeg\u001b[39;49m\u001b[38;5;124;43m\"\u001b[39;49m\u001b[43m,\u001b[49m\u001b[43m \u001b[49m\u001b[43mstretch\u001b[49m\u001b[38;5;241;43m=\u001b[39;49m\u001b[38;5;241;43m0.005\u001b[39;49m\u001b[43m,\u001b[49m\u001b[43m \u001b[49m\u001b[43mQ\u001b[49m\u001b[38;5;241;43m=\u001b[39;49m\u001b[38;5;241;43m5\u001b[39;49m\u001b[43m)\u001b[49m\n\u001b[1;32m      3\u001b[0m plt\u001b[38;5;241m.\u001b[39mimshow(rgb_default, origin\u001b[38;5;241m=\u001b[39m\u001b[38;5;124m'\u001b[39m\u001b[38;5;124mlower\u001b[39m\u001b[38;5;124m'\u001b[39m)\n",
      "File \u001b[0;32m~/miniconda3/lib/python3.9/site-packages/astropy/visualization/lupton_rgb.py:363\u001b[0m, in \u001b[0;36mmake_lupton_rgb\u001b[0;34m(image_r, image_g, image_b, minimum, stretch, Q, filename)\u001b[0m\n\u001b[1;32m    332\u001b[0m \u001b[38;5;124;03m\"\"\"\u001b[39;00m\n\u001b[1;32m    333\u001b[0m \u001b[38;5;124;03mReturn a Red/Green/Blue color image from up to 3 images using an asinh stretch.\u001b[39;00m\n\u001b[1;32m    334\u001b[0m \u001b[38;5;124;03mThe input images can be int or float, and in any range or bit-depth.\u001b[39;00m\n\u001b[0;32m   (...)\u001b[0m\n\u001b[1;32m    360\u001b[0m \u001b[38;5;124;03m    RGB (integer, 8-bits per channel) color image as an NxNx3 numpy array.\u001b[39;00m\n\u001b[1;32m    361\u001b[0m \u001b[38;5;124;03m\"\"\"\u001b[39;00m\n\u001b[1;32m    362\u001b[0m asinhMap \u001b[38;5;241m=\u001b[39m AsinhMapping(minimum, stretch, Q)\n\u001b[0;32m--> 363\u001b[0m rgb \u001b[38;5;241m=\u001b[39m \u001b[43masinhMap\u001b[49m\u001b[38;5;241;43m.\u001b[39;49m\u001b[43mmake_rgb_image\u001b[49m\u001b[43m(\u001b[49m\u001b[43mimage_r\u001b[49m\u001b[43m,\u001b[49m\u001b[43m \u001b[49m\u001b[43mimage_g\u001b[49m\u001b[43m,\u001b[49m\u001b[43m \u001b[49m\u001b[43mimage_b\u001b[49m\u001b[43m)\u001b[49m\n\u001b[1;32m    365\u001b[0m \u001b[38;5;28;01mif\u001b[39;00m filename:\n\u001b[1;32m    366\u001b[0m     \u001b[38;5;28;01mimport\u001b[39;00m \u001b[38;5;21;01mmatplotlib\u001b[39;00m\u001b[38;5;21;01m.\u001b[39;00m\u001b[38;5;21;01mimage\u001b[39;00m\n",
      "File \u001b[0;32m~/miniconda3/lib/python3.9/site-packages/astropy/visualization/lupton_rgb.py:98\u001b[0m, in \u001b[0;36mMapping.make_rgb_image\u001b[0;34m(self, image_r, image_g, image_b)\u001b[0m\n\u001b[1;32m     96\u001b[0m \u001b[38;5;28;01mif\u001b[39;00m (image_r\u001b[38;5;241m.\u001b[39mshape \u001b[38;5;241m!=\u001b[39m image_g\u001b[38;5;241m.\u001b[39mshape) \u001b[38;5;129;01mor\u001b[39;00m (image_g\u001b[38;5;241m.\u001b[39mshape \u001b[38;5;241m!=\u001b[39m image_b\u001b[38;5;241m.\u001b[39mshape):\n\u001b[1;32m     97\u001b[0m     msg \u001b[38;5;241m=\u001b[39m \u001b[38;5;124m\"\u001b[39m\u001b[38;5;124mThe image shapes must match. r: \u001b[39m\u001b[38;5;132;01m{}\u001b[39;00m\u001b[38;5;124m, g: \u001b[39m\u001b[38;5;132;01m{}\u001b[39;00m\u001b[38;5;124m b: \u001b[39m\u001b[38;5;132;01m{}\u001b[39;00m\u001b[38;5;124m\"\u001b[39m\n\u001b[0;32m---> 98\u001b[0m     \u001b[38;5;28;01mraise\u001b[39;00m \u001b[38;5;167;01mValueError\u001b[39;00m(msg\u001b[38;5;241m.\u001b[39mformat(image_r\u001b[38;5;241m.\u001b[39mshape, image_g\u001b[38;5;241m.\u001b[39mshape, image_b\u001b[38;5;241m.\u001b[39mshape))\n\u001b[1;32m    100\u001b[0m \u001b[38;5;28;01mreturn\u001b[39;00m np\u001b[38;5;241m.\u001b[39mdstack(\u001b[38;5;28mself\u001b[39m\u001b[38;5;241m.\u001b[39m_convert_images_to_uint8(image_r, image_g, image_b))\u001b[38;5;241m.\u001b[39mastype(np\u001b[38;5;241m.\u001b[39muint8)\n",
      "\u001b[0;31mValueError\u001b[0m: The image shapes must match. r: (2608, 2720), g: (2552, 2620) b: (2623, 2697)"
     ]
    },
    {
     "data": {
      "text/plain": [
       "<Figure size 1152x1152 with 0 Axes>"
      ]
     },
     "metadata": {},
     "output_type": "display_data"
    }
   ],
   "source": [
    "fig = plt.figure(figsize=(16,16))\n",
    "rgb_default = make_lupton_rgb(i,g,r, filename=\"M101-default.jpeg\", stretch=0.005, Q=5)\n",
    "plt.imshow(rgb_default, origin='lower')"
   ]
  },
  {
   "cell_type": "code",
   "execution_count": null,
   "id": "47316d19-e9dd-477d-80f6-8e2ebf52e87a",
   "metadata": {},
   "outputs": [],
   "source": []
  }
 ],
 "metadata": {
  "kernelspec": {
   "display_name": "Python 3",
   "language": "python",
   "name": "python3"
  },
  "language_info": {
   "codemirror_mode": {
    "name": "ipython",
    "version": 3
   },
   "file_extension": ".py",
   "mimetype": "text/x-python",
   "name": "python",
   "nbconvert_exporter": "python",
   "pygments_lexer": "ipython3",
   "version": "3.9.5"
  }
 },
 "nbformat": 4,
 "nbformat_minor": 5
}
